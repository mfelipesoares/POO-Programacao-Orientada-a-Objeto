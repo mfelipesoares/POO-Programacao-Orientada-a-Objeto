{
  "cells": [
    {
      "cell_type": "markdown",
      "metadata": {
        "id": "BYLpjnluU2dQ"
      },
      "source": [
        "# Laboratório: Padrões de Projeto: *Design Patterns*\n",
        "O principal objetivo do padrão **Abstract Factory** é fornecer uma interface para criar famílias de objetos relacionados sem especificar a classe concreta.\n",
        "\n",
        "Enquanto o **Factory Method** adia a criação da instância para as subclasses, o objetivo do Abstract Factory é criar famílias de objetos relacionados.\n",
        "\n",
        "O código-fonte abaixo segue o padrão **Abstract Factory** para criar diferentes famílias de pizzas, separando a lógica de criação dos objetos (fábricas) do uso (cliente).\n",
        "Cada fábrica cria dois tipos de pizzas, e o cliente as combina para servir."
      ]
    },
    {
      "cell_type": "code",
      "execution_count": 1,
      "metadata": {
        "id": "L1JzTjHmJzKe"
      },
      "outputs": [],
      "source": [
        "from abc import ABCMeta, abstractmethod"
      ]
    },
    {
      "cell_type": "markdown",
      "metadata": {
        "id": "azrNG-zSXMXO"
      },
      "source": [
        "Importando a biblioteca abc (abstract class) fornece ferramentas para definir classes abstratas em Python.\n",
        "**O ABCMeta é uma metaclasse** que define comportamentos de classes abstratas, e o decorador ***@abstractmethod*** indica que um método deve ser implementado pelas subclasses concretas."
      ]
    },
    {
      "cell_type": "code",
      "execution_count": 2,
      "metadata": {
        "id": "FvZPhSgaKMqz"
      },
      "outputs": [],
      "source": [
        "# AbstractFactory\n",
        "class PizzaFactory(metaclass=ABCMeta):\n",
        "\n",
        "    @abstractmethod\n",
        "    def criar_pizza_veg(self):\n",
        "        pass\n",
        "\n",
        "    @abstractmethod\n",
        "    def criar_pizza(self):\n",
        "        pass\n"
      ]
    },
    {
      "cell_type": "markdown",
      "metadata": {
        "id": "nCIkPAqJV7oX"
      },
      "source": [
        "Uma **metaclass** em Python é a \"classe de uma classe\". Em outras palavras, ela define como as classes em si são criadas e comportam-se.\n",
        "\n",
        "Assim como usamos classes para criar instâncias de objetos, uma metaclass é usada para criar classes.\n",
        "\n",
        "A classe **PizzaFactory** é uma classe abstrata que define métodos para a criação de pizzas vegetais (**criar_pizza_veg**) e pizzas não vegetais (**criar_pizza**), ou seja, pizzas veganas e não veganas. Subclasses concretas irão implementar esses métodos para criar pizzas específicas."
      ]
    },
    {
      "cell_type": "code",
      "execution_count": 3,
      "metadata": {
        "id": "WqfIZKSoKOjq"
      },
      "outputs": [],
      "source": [
        "# ConcretoFactory A\n",
        "class PizzaBrasileira(PizzaFactory):\n",
        "\n",
        "    def criar_pizza_veg(self):\n",
        "        return PizzaMandioca()\n",
        "\n",
        "    def criar_pizza(self):\n",
        "        return PizzaCamarao()\n"
      ]
    },
    {
      "cell_type": "markdown",
      "metadata": {
        "id": "wMFJc6mkYcVw"
      },
      "source": [
        "A classe **PizzaBrasileira** implementa uma fábrica concreta da fábrica abstrata **PizzaFactory**.\n",
        "\n",
        "O código cria pizzas brasileiras: PizzaMandioca (vegetal) e PizzaCamarao (não-vegetal)\n",
        "\n",
        "***Importante***: observe que em Python é diferente de Java, pois a interface é implementada por uma classe abstrata.\n",
        "."
      ]
    },
    {
      "cell_type": "code",
      "execution_count": 4,
      "metadata": {
        "id": "aoSZ4uUwKTr6"
      },
      "outputs": [],
      "source": [
        "# ConcretoFactory B\n",
        "class PizzaItaliana(PizzaFactory):\n",
        "\n",
        "    def criar_pizza_veg(self):\n",
        "        return PizzaBrocolli()\n",
        "\n",
        "    def criar_pizza(self):\n",
        "        return PizzaBolonha()\n"
      ]
    },
    {
      "cell_type": "markdown",
      "metadata": {
        "id": "sZvPJv5hZenb"
      },
      "source": [
        "A classe **PizzaItaliana** implementa uma fábrica concreta da fábrica abstrata **PizzaFactory**.\n",
        "\n",
        "O código cria pizzas italianas: PizzaBrocolli (vegetal) e PizzaBolonha (não-vegetal)."
      ]
    },
    {
      "cell_type": "code",
      "execution_count": 5,
      "metadata": {
        "id": "8WxWtcfUKnVZ"
      },
      "outputs": [],
      "source": [
        "# AbstractProdutoA\n",
        "class PizzaVeg(metaclass=ABCMeta):\n",
        "\n",
        "    @abstractmethod\n",
        "    def preparar(self, PizzaVeg):\n",
        "        pass\n"
      ]
    },
    {
      "cell_type": "markdown",
      "metadata": {
        "id": "wsuWZ4qCaa3x"
      },
      "source": [
        "A classe abstrata **PizzaVeg**  representa pizzas vegetais e define o método abstrato preparar."
      ]
    },
    {
      "cell_type": "code",
      "execution_count": 6,
      "metadata": {
        "id": "HzP8dzjwKqDb"
      },
      "outputs": [],
      "source": [
        "# AbstractProdutoB\n",
        "class Pizza(metaclass=ABCMeta):\n",
        "\n",
        "    @abstractmethod\n",
        "    def servir(self, PizzaVeg):\n",
        "        pass\n"
      ]
    },
    {
      "cell_type": "markdown",
      "metadata": {
        "id": "G8zwLxmba3GU"
      },
      "source": [
        "A classe abstrata **Pizza** representa pizzas normais e define o método abstrato servir, que recebe uma pizza vegetal como argumento."
      ]
    },
    {
      "cell_type": "code",
      "execution_count": 7,
      "metadata": {
        "id": "KGmN57R2K1CS"
      },
      "outputs": [],
      "source": [
        "# ProdutoConcreto\n",
        "class PizzaMandioca(PizzaVeg):\n",
        "\n",
        "    def preparar(self):\n",
        "        print(f'Preparando {type(self).__name__}')\n"
      ]
    },
    {
      "cell_type": "code",
      "execution_count": 8,
      "metadata": {
        "id": "Wn3A1t6_LAcz"
      },
      "outputs": [],
      "source": [
        "# ProdutoConcreto\n",
        "class PizzaCamarao(Pizza):\n",
        "\n",
        "    def servir(self, PizzaVeg):\n",
        "        print(f'{type(self).__name__} é servida com camarão na {type(PizzaVeg).__name__}')\n"
      ]
    },
    {
      "cell_type": "code",
      "execution_count": 9,
      "metadata": {
        "id": "Ng5qxHNfLEfj"
      },
      "outputs": [],
      "source": [
        "# ProdutoConcreto\n",
        "class PizzaBrocolli(PizzaVeg):\n",
        "\n",
        "    def preparar(self):\n",
        "        print(f'Preparando {type(self).__name__}')\n"
      ]
    },
    {
      "cell_type": "code",
      "execution_count": 10,
      "metadata": {
        "id": "b-7TZuIVL9Wa"
      },
      "outputs": [],
      "source": [
        "# ProdutoConcreto\n",
        "class PizzaBolonha(Pizza):\n",
        "\n",
        "    def servir(self, PizzaVeg):\n",
        "        print(f'{type(self).__name__} é servida com bolonha na {type(PizzaVeg).__name__}')\n"
      ]
    },
    {
      "cell_type": "markdown",
      "metadata": {
        "id": "geuAidnvi_8l"
      },
      "source": [
        "As classes ***PizzaMandioca, PizzaCamarao, PizzaBrocolli e PizzaBolonha*** são as implementações concretas do produto pizza.\n",
        "Cada pizza tem um comportamento específico.\n",
        "As **pizzas vegetais **(PizzaMandioca e PizzaBrocolli) implementam o método preparar.\n",
        "As pizzas normais (**PizzaCamarao e PizzaBolonha**) implementam o método servir, que combina a pizza normal com uma pizza vegetal."
      ]
    },
    {
      "cell_type": "code",
      "execution_count": 11,
      "metadata": {
        "colab": {
          "base_uri": "https://localhost:8080/"
        },
        "id": "XpU_D42_ME9z",
        "outputId": "358614e1-9b8a-4b17-d4eb-ec4b5c93da5a"
      },
      "outputs": [
        {
          "name": "stdout",
          "output_type": "stream",
          "text": [
            "Preparando PizzaMandioca\n",
            "PizzaCamarao é servida com camarão na PizzaMandioca\n",
            "Preparando PizzaBrocolli\n",
            "PizzaBolonha é servida com bolonha na PizzaBrocolli\n"
          ]
        }
      ],
      "source": [
        "# Cliente\n",
        "class Pizzaria:\n",
        "\n",
        "    def fazer_pizzas(self):\n",
        "        for factory in [PizzaBrasileira(), PizzaItaliana()]:\n",
        "            self.factory = factory\n",
        "            self.pizza = self.factory.criar_pizza()\n",
        "            self.pizza_veg = self.factory.criar_pizza_veg()\n",
        "            self.pizza_veg.preparar()\n",
        "            self.pizza.servir(self.pizza_veg)\n",
        "\n",
        "\n",
        "pizzaria = Pizzaria()\n",
        "pizzaria.fazer_pizzas()\n"
      ]
    },
    {
      "cell_type": "markdown",
      "metadata": {
        "id": "7OCUJPHIkP_t"
      },
      "source": [
        "A classe **Pizzaria** é o cliente que utiliza as fábricas concretas para criar e servir pizzas.\n",
        "Ele itera sobre diferentes fábricas (***PizzaBrasileira e PizzaItaliana***), cria pizzas vegetais e não-vegetais e as combina.\n",
        "As últimas duas linhas representam:\n",
        "\n",
        "\n",
        "*   A criação da instância pizzaria.\n",
        "*   O método **fazer_pizzas** é chamado para preparar e servir pizzas de acordo com as fábricas definidas.\n",
        "\n",
        "Ao executar o código temos o resultado na célula anterior a este comentário.\n",
        "\n",
        "\n"
      ]
    }
  ],
  "metadata": {
    "colab": {
      "provenance": []
    },
    "kernelspec": {
      "display_name": "Python 3",
      "name": "python3"
    },
    "language_info": {
      "codemirror_mode": {
        "name": "ipython",
        "version": 3
      },
      "file_extension": ".py",
      "mimetype": "text/x-python",
      "name": "python",
      "nbconvert_exporter": "python",
      "pygments_lexer": "ipython3",
      "version": "3.11.9"
    }
  },
  "nbformat": 4,
  "nbformat_minor": 0
}
